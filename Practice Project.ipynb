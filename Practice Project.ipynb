{
 "cells": [
  {
   "cell_type": "markdown",
   "metadata": {},
   "source": [
    "<p style=\"text-align:center\">\n",
    "    <a href=\"https://skills.network\" target=\"_blank\">\n",
    "    <img src=\"https://cf-courses-data.s3.us.cloud-object-storage.appdomain.cloud/assets/logos/SN_web_lightmode.png\" width=\"200\" alt=\"Skills Network Logo\"  />\n",
    "    </a>\n",
    "</p>\n"
   ]
  },
  {
   "cell_type": "markdown",
   "metadata": {},
   "source": [
    "# **Practice Project: Titanic Survival Prediction**\n"
   ]
  },
  {
   "cell_type": "markdown",
   "metadata": {},
   "source": [
    "Estimated time needed: **30** minutes\n"
   ]
  },
  {
   "cell_type": "markdown",
   "metadata": {},
   "source": [
    "## Introduction\n",
    "Now that you have a feel for how to optimize your machine learning pipeline, let's practice with a real world dataset.  \n",
    "You'll use cross validation and a hyperparameter grid search to optimize your machine learning pipeline.  \n",
    "\n",
    "You will use the Titanic Survival Dataset to build a classification model to predict whether a passenger survived the sinking of the Titanic, based on attributes of each passenger in the data set.\n",
    "\n",
    "You'll start with building a Random Forest Classifier, then modify your pipeline to use a Logistic Regression estimator instead. You'll evaluate and compare your results.\n",
    "\n",
    "This lab will help prepare you for completing the Final Project.\n"
   ]
  },
  {
   "cell_type": "markdown",
   "metadata": {},
   "source": [
    "## Objectives\n",
    "\n",
    "After completing this lab you will be able to:\n",
    "\n",
    " - Use scikit-learn to build a model to solve a classification problem\n",
    " - Implement a pipeline to combine your preprocessing steps with a machine learning model\n",
    " - Interpret the results of your modelling\n",
    " - Update your pipeline with a different machine learning model\n",
    " - Compare the preformances of your classifiers\n"
   ]
  },
  {
   "cell_type": "markdown",
   "metadata": {},
   "source": [
    "----\n"
   ]
  },
  {
   "cell_type": "markdown",
   "metadata": {},
   "source": [
    "### Install the required libraries\n"
   ]
  },
  {
   "cell_type": "code",
   "execution_count": 1,
   "metadata": {},
   "outputs": [],
   "source": [
    "# !pip install numpy\n",
    "# !pip install matplotlib\n",
    "# !pip install pandas\n",
    "# !pip install scikit-learn\n",
    "# !pip install seaborn"
   ]
  },
  {
   "cell_type": "markdown",
   "metadata": {},
   "source": [
    "### Import the required libraries\n"
   ]
  },
  {
   "cell_type": "code",
   "execution_count": 2,
   "metadata": {},
   "outputs": [
    {
     "ename": "ImportError",
     "evalue": "cannot import name 'ConfusionMatrixDisplay' from 'sklearn.metrics' (C:\\ProgramData\\Anaconda3\\lib\\site-packages\\sklearn\\metrics\\__init__.py)",
     "output_type": "error",
     "traceback": [
      "\u001b[1;31m---------------------------------------------------------------------------\u001b[0m",
      "\u001b[1;31mImportError\u001b[0m                               Traceback (most recent call last)",
      "\u001b[1;32m<ipython-input-2-b5f3995793b3>\u001b[0m in \u001b[0;36m<module>\u001b[1;34m\u001b[0m\n\u001b[0;32m     13\u001b[0m \u001b[1;32mfrom\u001b[0m \u001b[0msklearn\u001b[0m\u001b[1;33m.\u001b[0m\u001b[0mensemble\u001b[0m \u001b[1;32mimport\u001b[0m \u001b[0mRandomForestClassifier\u001b[0m\u001b[1;33m\u001b[0m\u001b[1;33m\u001b[0m\u001b[0m\n\u001b[0;32m     14\u001b[0m \u001b[1;32mfrom\u001b[0m \u001b[0msklearn\u001b[0m\u001b[1;33m.\u001b[0m\u001b[0mlinear_model\u001b[0m \u001b[1;32mimport\u001b[0m \u001b[0mLogisticRegression\u001b[0m\u001b[1;33m\u001b[0m\u001b[1;33m\u001b[0m\u001b[0m\n\u001b[1;32m---> 15\u001b[1;33m \u001b[1;32mfrom\u001b[0m \u001b[0msklearn\u001b[0m\u001b[1;33m.\u001b[0m\u001b[0mmetrics\u001b[0m \u001b[1;32mimport\u001b[0m \u001b[0mclassification_report\u001b[0m\u001b[1;33m,\u001b[0m \u001b[0mconfusion_matrix\u001b[0m\u001b[1;33m,\u001b[0m \u001b[0mConfusionMatrixDisplay\u001b[0m\u001b[1;33m\u001b[0m\u001b[1;33m\u001b[0m\u001b[0m\n\u001b[0m",
      "\u001b[1;31mImportError\u001b[0m: cannot import name 'ConfusionMatrixDisplay' from 'sklearn.metrics' (C:\\ProgramData\\Anaconda3\\lib\\site-packages\\sklearn\\metrics\\__init__.py)"
     ]
    }
   ],
   "source": [
    "import numpy as np\n",
    "import pandas as pd\n",
    "import matplotlib.pyplot as plt\n",
    "from sklearn.datasets import load_iris\n",
    "from sklearn.model_selection import train_test_split, GridSearchCV, cross_val_score, StratifiedKFold\n",
    "from sklearn.preprocessing import StandardScaler, OneHotEncoder\n",
    "from sklearn.decomposition import PCA\n",
    "from sklearn.neighbors import KNeighborsClassifier\n",
    "from sklearn.pipeline import Pipeline\n",
    "import seaborn as sns\n",
    "from sklearn.compose import ColumnTransformer\n",
    "from sklearn.impute import SimpleImputer\n",
    "from sklearn.ensemble import RandomForestClassifier\n",
    "from sklearn.linear_model import LogisticRegression\n",
    "from sklearn.metrics import classification_report, confusion_matrix, ConfusionMatrixDisplay"
   ]
  },
  {
   "cell_type": "markdown",
   "metadata": {},
   "source": [
    "### Titanic Passenger data set\n",
    "We'll be working with the Titanic passenger dataset to build a classification model to predict whether a passenger survied the sinking of the Titanic.  \n",
    "Here is the data dictionary:\n",
    "\n",
    "| Variable   |\tDefinition   |\n",
    " |:------|:--------------------------------|\n",
    " |survived | survived? 0 = No, 1 = yes  |\n",
    " |pclass | Ticket class (int)  |\n",
    " |sex\t |sex |\n",
    " |age\t | age in years  |\n",
    " |sibsp  |\t# of siblings / spouses aboard the Titanic |\n",
    " |parch  |\t# of parents / children aboard the Titanic |\n",
    " |fare   |\tPassenger fare   |\n",
    " |embarked | Port of Embarkation |\n",
    " |class  |Ticket class (obj)   |\n",
    " |who    | man, woman, or child  |\n",
    " |adult_male | True/False |\n",
    " |alive  | yes/no  |\n",
    " |alone  | yes/no  |\n"
   ]
  },
  {
   "cell_type": "markdown",
   "metadata": {},
   "source": [
    "## Load the Titanic dataset using Seaborn\n"
   ]
  },
  {
   "cell_type": "code",
   "execution_count": 38,
   "metadata": {},
   "outputs": [
    {
     "data": {
      "text/html": [
       "<div>\n",
       "<style scoped>\n",
       "    .dataframe tbody tr th:only-of-type {\n",
       "        vertical-align: middle;\n",
       "    }\n",
       "\n",
       "    .dataframe tbody tr th {\n",
       "        vertical-align: top;\n",
       "    }\n",
       "\n",
       "    .dataframe thead th {\n",
       "        text-align: right;\n",
       "    }\n",
       "</style>\n",
       "<table border=\"1\" class=\"dataframe\">\n",
       "  <thead>\n",
       "    <tr style=\"text-align: right;\">\n",
       "      <th></th>\n",
       "      <th>survived</th>\n",
       "      <th>pclass</th>\n",
       "      <th>sex</th>\n",
       "      <th>age</th>\n",
       "      <th>sibsp</th>\n",
       "      <th>parch</th>\n",
       "      <th>fare</th>\n",
       "      <th>embarked</th>\n",
       "      <th>class</th>\n",
       "      <th>who</th>\n",
       "      <th>adult_male</th>\n",
       "      <th>deck</th>\n",
       "      <th>embark_town</th>\n",
       "      <th>alive</th>\n",
       "      <th>alone</th>\n",
       "    </tr>\n",
       "  </thead>\n",
       "  <tbody>\n",
       "    <tr>\n",
       "      <td>0</td>\n",
       "      <td>0</td>\n",
       "      <td>3</td>\n",
       "      <td>male</td>\n",
       "      <td>22.0</td>\n",
       "      <td>1</td>\n",
       "      <td>0</td>\n",
       "      <td>7.2500</td>\n",
       "      <td>S</td>\n",
       "      <td>Third</td>\n",
       "      <td>man</td>\n",
       "      <td>True</td>\n",
       "      <td>NaN</td>\n",
       "      <td>Southampton</td>\n",
       "      <td>no</td>\n",
       "      <td>False</td>\n",
       "    </tr>\n",
       "    <tr>\n",
       "      <td>1</td>\n",
       "      <td>1</td>\n",
       "      <td>1</td>\n",
       "      <td>female</td>\n",
       "      <td>38.0</td>\n",
       "      <td>1</td>\n",
       "      <td>0</td>\n",
       "      <td>71.2833</td>\n",
       "      <td>C</td>\n",
       "      <td>First</td>\n",
       "      <td>woman</td>\n",
       "      <td>False</td>\n",
       "      <td>C</td>\n",
       "      <td>Cherbourg</td>\n",
       "      <td>yes</td>\n",
       "      <td>False</td>\n",
       "    </tr>\n",
       "    <tr>\n",
       "      <td>2</td>\n",
       "      <td>1</td>\n",
       "      <td>3</td>\n",
       "      <td>female</td>\n",
       "      <td>26.0</td>\n",
       "      <td>0</td>\n",
       "      <td>0</td>\n",
       "      <td>7.9250</td>\n",
       "      <td>S</td>\n",
       "      <td>Third</td>\n",
       "      <td>woman</td>\n",
       "      <td>False</td>\n",
       "      <td>NaN</td>\n",
       "      <td>Southampton</td>\n",
       "      <td>yes</td>\n",
       "      <td>True</td>\n",
       "    </tr>\n",
       "    <tr>\n",
       "      <td>3</td>\n",
       "      <td>1</td>\n",
       "      <td>1</td>\n",
       "      <td>female</td>\n",
       "      <td>35.0</td>\n",
       "      <td>1</td>\n",
       "      <td>0</td>\n",
       "      <td>53.1000</td>\n",
       "      <td>S</td>\n",
       "      <td>First</td>\n",
       "      <td>woman</td>\n",
       "      <td>False</td>\n",
       "      <td>C</td>\n",
       "      <td>Southampton</td>\n",
       "      <td>yes</td>\n",
       "      <td>False</td>\n",
       "    </tr>\n",
       "    <tr>\n",
       "      <td>4</td>\n",
       "      <td>0</td>\n",
       "      <td>3</td>\n",
       "      <td>male</td>\n",
       "      <td>35.0</td>\n",
       "      <td>0</td>\n",
       "      <td>0</td>\n",
       "      <td>8.0500</td>\n",
       "      <td>S</td>\n",
       "      <td>Third</td>\n",
       "      <td>man</td>\n",
       "      <td>True</td>\n",
       "      <td>NaN</td>\n",
       "      <td>Southampton</td>\n",
       "      <td>no</td>\n",
       "      <td>True</td>\n",
       "    </tr>\n",
       "  </tbody>\n",
       "</table>\n",
       "</div>"
      ],
      "text/plain": [
       "   survived  pclass     sex   age  sibsp  parch     fare embarked  class  \\\n",
       "0         0       3    male  22.0      1      0   7.2500        S  Third   \n",
       "1         1       1  female  38.0      1      0  71.2833        C  First   \n",
       "2         1       3  female  26.0      0      0   7.9250        S  Third   \n",
       "3         1       1  female  35.0      1      0  53.1000        S  First   \n",
       "4         0       3    male  35.0      0      0   8.0500        S  Third   \n",
       "\n",
       "     who  adult_male deck  embark_town alive  alone  \n",
       "0    man        True  NaN  Southampton    no  False  \n",
       "1  woman       False    C    Cherbourg   yes  False  \n",
       "2  woman       False  NaN  Southampton   yes   True  \n",
       "3  woman       False    C  Southampton   yes  False  \n",
       "4    man        True  NaN  Southampton    no   True  "
      ]
     },
     "execution_count": 38,
     "metadata": {},
     "output_type": "execute_result"
    }
   ],
   "source": [
    "titanic = sns.load_dataset('titanic')\n",
    "titanic.head()"
   ]
  },
  {
   "cell_type": "markdown",
   "metadata": {},
   "source": [
    "### Select relevant features and the target\n"
   ]
  },
  {
   "cell_type": "code",
   "execution_count": 39,
   "metadata": {},
   "outputs": [
    {
     "data": {
      "text/plain": [
       "survived       891\n",
       "pclass         891\n",
       "sex            891\n",
       "age            714\n",
       "sibsp          891\n",
       "parch          891\n",
       "fare           891\n",
       "embarked       889\n",
       "class          891\n",
       "who            891\n",
       "adult_male     891\n",
       "deck           203\n",
       "embark_town    889\n",
       "alive          891\n",
       "alone          891\n",
       "dtype: int64"
      ]
     },
     "execution_count": 39,
     "metadata": {},
     "output_type": "execute_result"
    }
   ],
   "source": [
    "titanic.count()"
   ]
  },
  {
   "cell_type": "markdown",
   "metadata": {},
   "source": [
    "#### Features to drop\n",
    "`deck` has a lot of missing values so we'll drop it. `age` has quite a few missing values as well. Although it could be, `embarked` and `embark_town` don't seem relevant so we'll drop them as well. It's unclear what `alive` refers to so we'll ignore it.\n",
    "#### Target\n",
    "`survived` is our target class variable.\n"
   ]
  },
  {
   "cell_type": "code",
   "execution_count": 40,
   "metadata": {},
   "outputs": [],
   "source": [
    "features = ['pclass', 'sex', 'age', 'sibsp', 'parch', 'fare', 'class', 'who', 'adult_male', 'alone']\n",
    "target = 'survived'\n",
    "\n",
    "X = titanic[features]\n",
    "y = titanic[target]"
   ]
  },
  {
   "cell_type": "markdown",
   "metadata": {},
   "source": [
    "### Exercise 1. How balanced are the classes?\n"
   ]
  },
  {
   "cell_type": "code",
   "execution_count": 42,
   "metadata": {},
   "outputs": [
    {
     "name": "stdout",
     "output_type": "stream",
     "text": [
      "0    549\n",
      "1    342\n",
      "Name: survived, dtype: int64\n",
      "        pclass    sex  age  sibsp  parch  fare  class    who  adult_male  \\\n",
      "0          NaN    NaN  NaN  608.0  678.0  15.0    NaN    NaN       354.0   \n",
      "0.42       NaN    NaN  1.0    NaN    NaN   NaN    NaN    NaN         NaN   \n",
      "0.67       NaN    NaN  1.0    NaN    NaN   NaN    NaN    NaN         NaN   \n",
      "0.75       NaN    NaN  2.0    NaN    NaN   NaN    NaN    NaN         NaN   \n",
      "0.83       NaN    NaN  2.0    NaN    NaN   NaN    NaN    NaN         NaN   \n",
      "...        ...    ...  ...    ...    ...   ...    ...    ...         ...   \n",
      "child      NaN    NaN  NaN    NaN    NaN   NaN    NaN   83.0         NaN   \n",
      "female     NaN  314.0  NaN    NaN    NaN   NaN    NaN    NaN         NaN   \n",
      "male       NaN  577.0  NaN    NaN    NaN   NaN    NaN    NaN         NaN   \n",
      "man        NaN    NaN  NaN    NaN    NaN   NaN    NaN  537.0         NaN   \n",
      "woman      NaN    NaN  NaN    NaN    NaN   NaN    NaN  271.0         NaN   \n",
      "\n",
      "        alone  \n",
      "0       354.0  \n",
      "0.42      NaN  \n",
      "0.67      NaN  \n",
      "0.75      NaN  \n",
      "0.83      NaN  \n",
      "...       ...  \n",
      "child     NaN  \n",
      "female    NaN  \n",
      "male      NaN  \n",
      "man       NaN  \n",
      "woman     NaN  \n",
      "\n",
      "[314 rows x 10 columns]\n"
     ]
    }
   ],
   "source": [
    "# Enter your code here:\n",
    "print(y.value_counts())\n",
    "# print()\n",
    "print(X.apply(pd.value_counts))"
   ]
  },
  {
   "cell_type": "markdown",
   "metadata": {},
   "source": [
    "<details><summary>Click here for the solution</summary>\n",
    "    \n",
    "```python\n",
    "y.value_counts()\n",
    "```\n",
    "```\n",
    "So about 38% of the passengers in the data set survived.  \n",
    "Because of this slight imbalance, we should stratify the data when performing train/test split and for cross-validation.\n",
    "```\n"
   ]
  },
  {
   "cell_type": "markdown",
   "metadata": {},
   "source": [
    "### Exercise 2. Split the data into training and testing sets\n",
    "Don't forget to consider imbalance in the target\n"
   ]
  },
  {
   "cell_type": "code",
   "execution_count": 43,
   "metadata": {},
   "outputs": [],
   "source": [
    "# Enter your code here:\n",
    "X_train, X_test, y_train, y_test = train_test_split(X, y, test_size=0.2, stratify=y, random_state=42)"
   ]
  },
  {
   "cell_type": "markdown",
   "metadata": {},
   "source": [
    "<details><summary>Click here for the solution</summary>\n",
    "    \n",
    "```python\n",
    "X_train, X_test, y_train, y_test = train_test_split(X, y, test_size=0.2, random_state=42, stratify=y)\n",
    "```\n"
   ]
  },
  {
   "cell_type": "markdown",
   "metadata": {},
   "source": [
    "### Define preprocessing transformers for numerical and categorical features\n",
    "#### Automatically detect numerical and categorical columns and assign them to separate numeric and categorical features\n"
   ]
  },
  {
   "cell_type": "code",
   "execution_count": 44,
   "metadata": {},
   "outputs": [],
   "source": [
    "numerical_features = X_train.select_dtypes(include=['number']).columns.tolist()\n",
    "categorical_features = X_train.select_dtypes(include=['object', 'category']).columns.tolist()"
   ]
  },
  {
   "cell_type": "markdown",
   "metadata": {},
   "source": [
    "#### Define separate preprocessing pipelines for both feature types\n"
   ]
  },
  {
   "cell_type": "code",
   "execution_count": 45,
   "metadata": {},
   "outputs": [],
   "source": [
    "numerical_transformer = Pipeline(steps=[\n",
    "    ('imputer', SimpleImputer(strategy='median')),\n",
    "    ('scaler', StandardScaler())\n",
    "])\n",
    "\n",
    "categorical_transformer = Pipeline(steps=[\n",
    "    ('imputer', SimpleImputer(strategy='most_frequent')),\n",
    "    ('onehot', OneHotEncoder(handle_unknown='ignore'))\n",
    "])"
   ]
  },
  {
   "cell_type": "markdown",
   "metadata": {},
   "source": [
    "#### Combine the transformers into a single column transformer\n",
    "We'll use the sklearn \"column transformer\" estimator to separately transform the features, which will then concatenate the output as a single feature space, ready for input to a machine learning estimator.\n"
   ]
  },
  {
   "cell_type": "code",
   "execution_count": 47,
   "metadata": {},
   "outputs": [
    {
     "data": {
      "text/plain": [
       "ColumnTransformer(n_jobs=None, remainder='drop', sparse_threshold=0.3,\n",
       "                  transformer_weights=None,\n",
       "                  transformers=[('num',\n",
       "                                 Pipeline(memory=None,\n",
       "                                          steps=[('imputer',\n",
       "                                                  SimpleImputer(add_indicator=False,\n",
       "                                                                copy=True,\n",
       "                                                                fill_value=None,\n",
       "                                                                missing_values=nan,\n",
       "                                                                strategy='median',\n",
       "                                                                verbose=0)),\n",
       "                                                 ('scaler',\n",
       "                                                  StandardScaler(copy=True,\n",
       "                                                                 with_mean=True,\n",
       "                                                                 with_std=True))],\n",
       "                                          verbose=False),\n",
       "                                 ['pcla...\n",
       "                                 Pipeline(memory=None,\n",
       "                                          steps=[('imputer',\n",
       "                                                  SimpleImputer(add_indicator=False,\n",
       "                                                                copy=True,\n",
       "                                                                fill_value=None,\n",
       "                                                                missing_values=nan,\n",
       "                                                                strategy='most_frequent',\n",
       "                                                                verbose=0)),\n",
       "                                                 ('onehot',\n",
       "                                                  OneHotEncoder(categorical_features=None,\n",
       "                                                                categories=None,\n",
       "                                                                drop=None,\n",
       "                                                                dtype=<class 'numpy.float64'>,\n",
       "                                                                handle_unknown='ignore',\n",
       "                                                                n_values=None,\n",
       "                                                                sparse=True))],\n",
       "                                          verbose=False),\n",
       "                                 ['sex', 'class', 'who'])],\n",
       "                  verbose=False)"
      ]
     },
     "execution_count": 47,
     "metadata": {},
     "output_type": "execute_result"
    }
   ],
   "source": [
    "preprocessor = ColumnTransformer(\n",
    "    transformers=[\n",
    "        ('num', numerical_transformer, numerical_features),\n",
    "        ('cat', categorical_transformer, categorical_features)\n",
    "    ])\n",
    "\n",
    "preprocessor"
   ]
  },
  {
   "cell_type": "markdown",
   "metadata": {},
   "source": [
    "### Create a model pipeline\n",
    "Now let's complete the model pipeline by combining the preprocessing with a Random Forest classifier\n"
   ]
  },
  {
   "cell_type": "code",
   "execution_count": 51,
   "metadata": {},
   "outputs": [],
   "source": [
    "pipeline = Pipeline(steps=[\n",
    "    ('preprocessor', preprocessor),\n",
    "    ('classifier', RandomForestClassifier(random_state=42))\n",
    "])"
   ]
  },
  {
   "cell_type": "markdown",
   "metadata": {},
   "source": [
    "### Define a parameter grid \n",
    "We'll use the grid in a cross validation search to optimize the model\n"
   ]
  },
  {
   "cell_type": "code",
   "execution_count": 52,
   "metadata": {},
   "outputs": [],
   "source": [
    "param_grid = {\n",
    "    'classifier__n_estimators': [50, 100],\n",
    "    'classifier__max_depth': [None, 10, 20],\n",
    "    'classifier__min_samples_split': [2, 5]\n",
    "}"
   ]
  },
  {
   "cell_type": "markdown",
   "metadata": {},
   "source": [
    "### Perform grid search cross-validation and fit the best model to the training data\n"
   ]
  },
  {
   "cell_type": "code",
   "execution_count": 53,
   "metadata": {},
   "outputs": [],
   "source": [
    "# Cross-validation method\n",
    "cv = StratifiedKFold(n_splits=5, shuffle=True)"
   ]
  },
  {
   "cell_type": "markdown",
   "metadata": {},
   "source": [
    "### Exercise 3. Train the pipeline model \n"
   ]
  },
  {
   "cell_type": "code",
   "execution_count": 54,
   "metadata": {},
   "outputs": [
    {
     "name": "stdout",
     "output_type": "stream",
     "text": [
      "Fitting 5 folds for each of 12 candidates, totalling 60 fits\n",
      "[CV] classifier__max_depth=None, classifier__min_samples_split=2, classifier__n_estimators=50 \n",
      "[CV]  classifier__max_depth=None, classifier__min_samples_split=2, classifier__n_estimators=50, total=   0.1s\n",
      "[CV] classifier__max_depth=None, classifier__min_samples_split=2, classifier__n_estimators=50 \n",
      "[CV]  classifier__max_depth=None, classifier__min_samples_split=2, classifier__n_estimators=50, total=   0.0s\n",
      "[CV] classifier__max_depth=None, classifier__min_samples_split=2, classifier__n_estimators=50 \n",
      "[CV]  classifier__max_depth=None, classifier__min_samples_split=2, classifier__n_estimators=50, total=   0.1s\n",
      "[CV] classifier__max_depth=None, classifier__min_samples_split=2, classifier__n_estimators=50 \n"
     ]
    },
    {
     "name": "stderr",
     "output_type": "stream",
     "text": [
      "[Parallel(n_jobs=1)]: Using backend SequentialBackend with 1 concurrent workers.\n",
      "[Parallel(n_jobs=1)]: Done   1 out of   1 | elapsed:    0.0s remaining:    0.0s\n"
     ]
    },
    {
     "name": "stdout",
     "output_type": "stream",
     "text": [
      "[CV]  classifier__max_depth=None, classifier__min_samples_split=2, classifier__n_estimators=50, total=   0.1s\n",
      "[CV] classifier__max_depth=None, classifier__min_samples_split=2, classifier__n_estimators=50 \n",
      "[CV]  classifier__max_depth=None, classifier__min_samples_split=2, classifier__n_estimators=50, total=   0.1s\n",
      "[CV] classifier__max_depth=None, classifier__min_samples_split=2, classifier__n_estimators=100 \n",
      "[CV]  classifier__max_depth=None, classifier__min_samples_split=2, classifier__n_estimators=100, total=   0.1s\n",
      "[CV] classifier__max_depth=None, classifier__min_samples_split=2, classifier__n_estimators=100 \n",
      "[CV]  classifier__max_depth=None, classifier__min_samples_split=2, classifier__n_estimators=100, total=   0.1s\n",
      "[CV] classifier__max_depth=None, classifier__min_samples_split=2, classifier__n_estimators=100 \n",
      "[CV]  classifier__max_depth=None, classifier__min_samples_split=2, classifier__n_estimators=100, total=   0.1s\n",
      "[CV] classifier__max_depth=None, classifier__min_samples_split=2, classifier__n_estimators=100 \n",
      "[CV]  classifier__max_depth=None, classifier__min_samples_split=2, classifier__n_estimators=100, total=   0.1s\n",
      "[CV] classifier__max_depth=None, classifier__min_samples_split=2, classifier__n_estimators=100 \n",
      "[CV]  classifier__max_depth=None, classifier__min_samples_split=2, classifier__n_estimators=100, total=   0.1s\n",
      "[CV] classifier__max_depth=None, classifier__min_samples_split=5, classifier__n_estimators=50 \n",
      "[CV]  classifier__max_depth=None, classifier__min_samples_split=5, classifier__n_estimators=50, total=   0.1s\n",
      "[CV] classifier__max_depth=None, classifier__min_samples_split=5, classifier__n_estimators=50 \n",
      "[CV]  classifier__max_depth=None, classifier__min_samples_split=5, classifier__n_estimators=50, total=   0.1s\n",
      "[CV] classifier__max_depth=None, classifier__min_samples_split=5, classifier__n_estimators=50 \n",
      "[CV]  classifier__max_depth=None, classifier__min_samples_split=5, classifier__n_estimators=50, total=   0.1s\n",
      "[CV] classifier__max_depth=None, classifier__min_samples_split=5, classifier__n_estimators=50 \n",
      "[CV]  classifier__max_depth=None, classifier__min_samples_split=5, classifier__n_estimators=50, total=   0.1s\n",
      "[CV] classifier__max_depth=None, classifier__min_samples_split=5, classifier__n_estimators=50 \n",
      "[CV]  classifier__max_depth=None, classifier__min_samples_split=5, classifier__n_estimators=50, total=   0.0s\n",
      "[CV] classifier__max_depth=None, classifier__min_samples_split=5, classifier__n_estimators=100 \n",
      "[CV]  classifier__max_depth=None, classifier__min_samples_split=5, classifier__n_estimators=100, total=   0.1s\n",
      "[CV] classifier__max_depth=None, classifier__min_samples_split=5, classifier__n_estimators=100 \n",
      "[CV]  classifier__max_depth=None, classifier__min_samples_split=5, classifier__n_estimators=100, total=   0.1s\n",
      "[CV] classifier__max_depth=None, classifier__min_samples_split=5, classifier__n_estimators=100 \n",
      "[CV]  classifier__max_depth=None, classifier__min_samples_split=5, classifier__n_estimators=100, total=   0.1s\n",
      "[CV] classifier__max_depth=None, classifier__min_samples_split=5, classifier__n_estimators=100 \n",
      "[CV]  classifier__max_depth=None, classifier__min_samples_split=5, classifier__n_estimators=100, total=   0.1s\n",
      "[CV] classifier__max_depth=None, classifier__min_samples_split=5, classifier__n_estimators=100 \n",
      "[CV]  classifier__max_depth=None, classifier__min_samples_split=5, classifier__n_estimators=100, total=   0.1s\n",
      "[CV] classifier__max_depth=10, classifier__min_samples_split=2, classifier__n_estimators=50 \n",
      "[CV]  classifier__max_depth=10, classifier__min_samples_split=2, classifier__n_estimators=50, total=   0.1s\n",
      "[CV] classifier__max_depth=10, classifier__min_samples_split=2, classifier__n_estimators=50 \n",
      "[CV]  classifier__max_depth=10, classifier__min_samples_split=2, classifier__n_estimators=50, total=   0.1s\n",
      "[CV] classifier__max_depth=10, classifier__min_samples_split=2, classifier__n_estimators=50 \n",
      "[CV]  classifier__max_depth=10, classifier__min_samples_split=2, classifier__n_estimators=50, total=   0.1s\n",
      "[CV] classifier__max_depth=10, classifier__min_samples_split=2, classifier__n_estimators=50 \n",
      "[CV]  classifier__max_depth=10, classifier__min_samples_split=2, classifier__n_estimators=50, total=   0.1s\n",
      "[CV] classifier__max_depth=10, classifier__min_samples_split=2, classifier__n_estimators=50 \n",
      "[CV]  classifier__max_depth=10, classifier__min_samples_split=2, classifier__n_estimators=50, total=   0.1s\n",
      "[CV] classifier__max_depth=10, classifier__min_samples_split=2, classifier__n_estimators=100 \n",
      "[CV]  classifier__max_depth=10, classifier__min_samples_split=2, classifier__n_estimators=100, total=   0.1s\n",
      "[CV] classifier__max_depth=10, classifier__min_samples_split=2, classifier__n_estimators=100 \n",
      "[CV]  classifier__max_depth=10, classifier__min_samples_split=2, classifier__n_estimators=100, total=   0.1s\n",
      "[CV] classifier__max_depth=10, classifier__min_samples_split=2, classifier__n_estimators=100 \n",
      "[CV]  classifier__max_depth=10, classifier__min_samples_split=2, classifier__n_estimators=100, total=   0.1s\n",
      "[CV] classifier__max_depth=10, classifier__min_samples_split=2, classifier__n_estimators=100 \n",
      "[CV]  classifier__max_depth=10, classifier__min_samples_split=2, classifier__n_estimators=100, total=   0.1s\n",
      "[CV] classifier__max_depth=10, classifier__min_samples_split=2, classifier__n_estimators=100 \n",
      "[CV]  classifier__max_depth=10, classifier__min_samples_split=2, classifier__n_estimators=100, total=   0.1s\n",
      "[CV] classifier__max_depth=10, classifier__min_samples_split=5, classifier__n_estimators=50 \n",
      "[CV]  classifier__max_depth=10, classifier__min_samples_split=5, classifier__n_estimators=50, total=   0.1s\n",
      "[CV] classifier__max_depth=10, classifier__min_samples_split=5, classifier__n_estimators=50 \n",
      "[CV]  classifier__max_depth=10, classifier__min_samples_split=5, classifier__n_estimators=50, total=   0.0s\n",
      "[CV] classifier__max_depth=10, classifier__min_samples_split=5, classifier__n_estimators=50 \n",
      "[CV]  classifier__max_depth=10, classifier__min_samples_split=5, classifier__n_estimators=50, total=   0.0s\n",
      "[CV] classifier__max_depth=10, classifier__min_samples_split=5, classifier__n_estimators=50 \n",
      "[CV]  classifier__max_depth=10, classifier__min_samples_split=5, classifier__n_estimators=50, total=   0.1s\n",
      "[CV] classifier__max_depth=10, classifier__min_samples_split=5, classifier__n_estimators=50 \n",
      "[CV]  classifier__max_depth=10, classifier__min_samples_split=5, classifier__n_estimators=50, total=   0.0s\n",
      "[CV] classifier__max_depth=10, classifier__min_samples_split=5, classifier__n_estimators=100 \n",
      "[CV]  classifier__max_depth=10, classifier__min_samples_split=5, classifier__n_estimators=100, total=   0.1s\n",
      "[CV] classifier__max_depth=10, classifier__min_samples_split=5, classifier__n_estimators=100 \n",
      "[CV]  classifier__max_depth=10, classifier__min_samples_split=5, classifier__n_estimators=100, total=   0.1s\n",
      "[CV] classifier__max_depth=10, classifier__min_samples_split=5, classifier__n_estimators=100 \n",
      "[CV]  classifier__max_depth=10, classifier__min_samples_split=5, classifier__n_estimators=100, total=   0.1s\n",
      "[CV] classifier__max_depth=10, classifier__min_samples_split=5, classifier__n_estimators=100 \n",
      "[CV]  classifier__max_depth=10, classifier__min_samples_split=5, classifier__n_estimators=100, total=   0.1s\n",
      "[CV] classifier__max_depth=10, classifier__min_samples_split=5, classifier__n_estimators=100 \n",
      "[CV]  classifier__max_depth=10, classifier__min_samples_split=5, classifier__n_estimators=100, total=   0.1s\n",
      "[CV] classifier__max_depth=20, classifier__min_samples_split=2, classifier__n_estimators=50 \n",
      "[CV]  classifier__max_depth=20, classifier__min_samples_split=2, classifier__n_estimators=50, total=   0.1s\n",
      "[CV] classifier__max_depth=20, classifier__min_samples_split=2, classifier__n_estimators=50 \n",
      "[CV]  classifier__max_depth=20, classifier__min_samples_split=2, classifier__n_estimators=50, total=   0.1s\n",
      "[CV] classifier__max_depth=20, classifier__min_samples_split=2, classifier__n_estimators=50 \n",
      "[CV]  classifier__max_depth=20, classifier__min_samples_split=2, classifier__n_estimators=50, total=   0.1s\n",
      "[CV] classifier__max_depth=20, classifier__min_samples_split=2, classifier__n_estimators=50 \n",
      "[CV]  classifier__max_depth=20, classifier__min_samples_split=2, classifier__n_estimators=50, total=   0.1s\n",
      "[CV] classifier__max_depth=20, classifier__min_samples_split=2, classifier__n_estimators=50 \n",
      "[CV]  classifier__max_depth=20, classifier__min_samples_split=2, classifier__n_estimators=50, total=   0.1s\n",
      "[CV] classifier__max_depth=20, classifier__min_samples_split=2, classifier__n_estimators=100 \n"
     ]
    },
    {
     "name": "stdout",
     "output_type": "stream",
     "text": [
      "[CV]  classifier__max_depth=20, classifier__min_samples_split=2, classifier__n_estimators=100, total=   0.1s\n",
      "[CV] classifier__max_depth=20, classifier__min_samples_split=2, classifier__n_estimators=100 \n",
      "[CV]  classifier__max_depth=20, classifier__min_samples_split=2, classifier__n_estimators=100, total=   0.1s\n",
      "[CV] classifier__max_depth=20, classifier__min_samples_split=2, classifier__n_estimators=100 \n",
      "[CV]  classifier__max_depth=20, classifier__min_samples_split=2, classifier__n_estimators=100, total=   0.1s\n",
      "[CV] classifier__max_depth=20, classifier__min_samples_split=2, classifier__n_estimators=100 \n",
      "[CV]  classifier__max_depth=20, classifier__min_samples_split=2, classifier__n_estimators=100, total=   0.1s\n",
      "[CV] classifier__max_depth=20, classifier__min_samples_split=2, classifier__n_estimators=100 \n",
      "[CV]  classifier__max_depth=20, classifier__min_samples_split=2, classifier__n_estimators=100, total=   0.1s\n",
      "[CV] classifier__max_depth=20, classifier__min_samples_split=5, classifier__n_estimators=50 \n",
      "[CV]  classifier__max_depth=20, classifier__min_samples_split=5, classifier__n_estimators=50, total=   0.1s\n",
      "[CV] classifier__max_depth=20, classifier__min_samples_split=5, classifier__n_estimators=50 \n",
      "[CV]  classifier__max_depth=20, classifier__min_samples_split=5, classifier__n_estimators=50, total=   0.1s\n",
      "[CV] classifier__max_depth=20, classifier__min_samples_split=5, classifier__n_estimators=50 \n",
      "[CV]  classifier__max_depth=20, classifier__min_samples_split=5, classifier__n_estimators=50, total=   0.1s\n",
      "[CV] classifier__max_depth=20, classifier__min_samples_split=5, classifier__n_estimators=50 \n",
      "[CV]  classifier__max_depth=20, classifier__min_samples_split=5, classifier__n_estimators=50, total=   0.1s\n",
      "[CV] classifier__max_depth=20, classifier__min_samples_split=5, classifier__n_estimators=50 \n",
      "[CV]  classifier__max_depth=20, classifier__min_samples_split=5, classifier__n_estimators=50, total=   0.1s\n",
      "[CV] classifier__max_depth=20, classifier__min_samples_split=5, classifier__n_estimators=100 \n",
      "[CV]  classifier__max_depth=20, classifier__min_samples_split=5, classifier__n_estimators=100, total=   0.1s\n",
      "[CV] classifier__max_depth=20, classifier__min_samples_split=5, classifier__n_estimators=100 \n",
      "[CV]  classifier__max_depth=20, classifier__min_samples_split=5, classifier__n_estimators=100, total=   0.1s\n",
      "[CV] classifier__max_depth=20, classifier__min_samples_split=5, classifier__n_estimators=100 \n",
      "[CV]  classifier__max_depth=20, classifier__min_samples_split=5, classifier__n_estimators=100, total=   0.1s\n",
      "[CV] classifier__max_depth=20, classifier__min_samples_split=5, classifier__n_estimators=100 \n",
      "[CV]  classifier__max_depth=20, classifier__min_samples_split=5, classifier__n_estimators=100, total=   0.1s\n",
      "[CV] classifier__max_depth=20, classifier__min_samples_split=5, classifier__n_estimators=100 \n",
      "[CV]  classifier__max_depth=20, classifier__min_samples_split=5, classifier__n_estimators=100, total=   0.1s\n"
     ]
    },
    {
     "name": "stderr",
     "output_type": "stream",
     "text": [
      "[Parallel(n_jobs=1)]: Done  60 out of  60 | elapsed:    4.8s finished\n"
     ]
    },
    {
     "data": {
      "text/plain": [
       "GridSearchCV(cv=StratifiedKFold(n_splits=5, random_state=None, shuffle=True),\n",
       "             error_score='raise-deprecating',\n",
       "             estimator=Pipeline(memory=None,\n",
       "                                steps=[('preprocessor',\n",
       "                                        ColumnTransformer(n_jobs=None,\n",
       "                                                          remainder='drop',\n",
       "                                                          sparse_threshold=0.3,\n",
       "                                                          transformer_weights=None,\n",
       "                                                          transformers=[('num',\n",
       "                                                                         Pipeline(memory=None,\n",
       "                                                                                  steps=[('imputer',\n",
       "                                                                                          SimpleImputer(add_indicator=False,\n",
       "                                                                                                        co...\n",
       "                                                               min_weight_fraction_leaf=0.0,\n",
       "                                                               n_estimators='warn',\n",
       "                                                               n_jobs=None,\n",
       "                                                               oob_score=False,\n",
       "                                                               random_state=42,\n",
       "                                                               verbose=0,\n",
       "                                                               warm_start=False))],\n",
       "                                verbose=False),\n",
       "             iid='warn', n_jobs=None,\n",
       "             param_grid={'classifier__max_depth': [None, 10, 20],\n",
       "                         'classifier__min_samples_split': [2, 5],\n",
       "                         'classifier__n_estimators': [50, 100]},\n",
       "             pre_dispatch='2*n_jobs', refit=True, return_train_score=False,\n",
       "             scoring='accuracy', verbose=2)"
      ]
     },
     "execution_count": 54,
     "metadata": {},
     "output_type": "execute_result"
    }
   ],
   "source": [
    "# Enter your code here\n",
    "model = GridSearchCV(estimator=pipeline, param_grid=param_grid, cv=cv, scoring='accuracy', verbose=2)\n",
    "model.fit(X_train, y_train)"
   ]
  },
  {
   "cell_type": "markdown",
   "metadata": {},
   "source": [
    "<details><summary>Click here for the solution</summary>\n",
    "    \n",
    "```python\n",
    "model = GridSearchCV(estimator=pipeline, param_grid=param_grid, cv=cv, scoring='accuracy', verbose=2)\n",
    "model.fit(X_train, y_train)\n",
    "```\n"
   ]
  },
  {
   "cell_type": "markdown",
   "metadata": {},
   "source": [
    "### Exercise 4. Get the model predictions from the grid search estimator on the unseen data\n",
    "Also print a classification report\n"
   ]
  },
  {
   "cell_type": "code",
   "execution_count": 55,
   "metadata": {},
   "outputs": [
    {
     "name": "stdout",
     "output_type": "stream",
     "text": [
      "              precision    recall  f1-score   support\n",
      "\n",
      "           0       0.84      0.89      0.87       110\n",
      "           1       0.81      0.74      0.77        69\n",
      "\n",
      "    accuracy                           0.83       179\n",
      "   macro avg       0.83      0.82      0.82       179\n",
      "weighted avg       0.83      0.83      0.83       179\n",
      "\n"
     ]
    }
   ],
   "source": [
    "# Enter your code here:\n",
    "y_pred = model. predict(X_test)\n",
    "print(classification_report(y_test, y_pred))"
   ]
  },
  {
   "cell_type": "markdown",
   "metadata": {},
   "source": [
    "<details><summary>Click here for the solution</summary>\n",
    "    \n",
    "```python\n",
    "y_pred = model.predict(X_test)\n",
    "print(classification_report(y_test, y_pred))\n",
    "```\n"
   ]
  },
  {
   "cell_type": "markdown",
   "metadata": {},
   "source": [
    "### Exercise 5. Plot the confusion matrix \n"
   ]
  },
  {
   "cell_type": "code",
   "execution_count": 65,
   "metadata": {},
   "outputs": [
    {
     "data": {
      "image/png": "[encoded data removed]",
      "text/plain": [
       "<Figure size 432x288 with 2 Axes>"
      ]
     },
     "metadata": {
      "needs_background": "light"
     },
     "output_type": "display_data"
    },
    {
     "name": "stdout",
     "output_type": "stream",
     "text": [
      "[[98 12]\n",
      " [19 50]]\n"
     ]
    }
   ],
   "source": [
    "# Enter your code here:\n",
    "conf_matrix = confusion_matrix(y_test, y_pred)\n",
    "\n",
    "plt.figure()\n",
    "sns.heatmap(conf_matrix, annot=True, cmap='Blues', fmt='d')\n",
    "\n",
    "# Set the title and labels\n",
    "plt.title('Classification Confusion Matrix')\n",
    "plt.xlabel('Predicted')\n",
    "plt.ylabel('Actual')\n",
    "\n",
    "# Show the plot\n",
    "plt.tight_layout()\n",
    "plt.show()\n",
    "\n",
    "print(conf_matrix)"
   ]
  },
  {
   "cell_type": "markdown",
   "metadata": {},
   "source": [
    "<details><summary>Click here for the solution</summary>\n",
    "    \n",
    "```python\n",
    "\n",
    "# Generate the confusion matrix \n",
    "conf_matrix = confusion_matrix(y_test, y_pred)\n",
    "\n",
    "plt.figure()\n",
    "sns.heatmap(conf_matrix, annot=True, cmap='Blues', fmt='d')\n",
    "\n",
    "# Set the title and labels\n",
    "plt.title('Titanic Classification Confusion Matrix')\n",
    "plt.xlabel('Predicted')\n",
    "plt.ylabel('Actual')\n",
    "\n",
    "# Show the plot\n",
    "plt.tight_layout()\n",
    "plt.show()\n",
    "```\n"
   ]
  },
  {
   "cell_type": "markdown",
   "metadata": {},
   "source": [
    "## Feature importances\n",
    "Let's figure out how to get the feature importances of our overall model.  You'll need to know how to do this for your final project.  \n",
    "First, to obtain the categorical feature importances, we have to work our way backward through the modelling pipeline to associate the feature importances with their one-hot encoded input features that were transformed from the original categorical features.\n",
    "\n",
    "We don't need to trace back through the pipeline for the numerical features, because we didn't transfrom them into new ones in any way.  \n",
    "Remember, we went from categorical features to one-hot encoded features, using the 'cat' column transformer.\n",
    "\n",
    "Here's how you trace back through the trained model to access the one-hot encoded feature names:\n"
   ]
  },
  {
   "cell_type": "code",
   "execution_count": 57,
   "metadata": {},
   "outputs": [
    {
     "data": {
      "text/plain": [
       "array(['sex_female', 'sex_male', 'class_First', 'class_Second',\n",
       "       'class_Third', 'who_child', 'who_man', 'who_woman'], dtype=object)"
      ]
     },
     "execution_count": 57,
     "metadata": {},
     "output_type": "execute_result"
    }
   ],
   "source": [
    "model.best_estimator_['preprocessor'].named_transformers_['cat'].named_steps['onehot'].get_feature_names(categorical_features)"
   ]
  },
  {
   "cell_type": "markdown",
   "metadata": {},
   "source": [
    "Notice how the one-hot encoded features are named - for example, `sex` was split into two boolean features indicating whether the sex is male or female.\n",
    "\n",
    "Great! Now let's get all of the feature importances and associate them with their transformed feature names.\n"
   ]
  },
  {
   "cell_type": "code",
   "execution_count": 58,
   "metadata": {},
   "outputs": [],
   "source": [
    "feature_importances = model.best_estimator_['classifier'].feature_importances_\n",
    "\n",
    "# Combine the numerical and one-hot encoded categorical feature names\n",
    "feature_names = numerical_features + list(model.best_estimator_['preprocessor']\n",
    "                                        .named_transformers_['cat']\n",
    "                                        .named_steps['onehot']\n",
    "                                        .get_feature_names(categorical_features))"
   ]
  },
  {
   "cell_type": "markdown",
   "metadata": {},
   "source": [
    "### Display the feature importances in a bar plot\n",
    "Define a feature importance DataFrame, then plot it \n"
   ]
  },
  {
   "cell_type": "code",
   "execution_count": 59,
   "metadata": {},
   "outputs": [
    {
     "data": {
      "image/png": "[encoded data removed]",
      "text/plain": [
       "<Figure size 720x432 with 1 Axes>"
      ]
     },
     "metadata": {
      "needs_background": "light"
     },
     "output_type": "display_data"
    },
    {
     "name": "stdout",
     "output_type": "stream",
     "text": [
      "\n",
      "Test set accuracy: 83.24%\n"
     ]
    }
   ],
   "source": [
    "importance_df = pd.DataFrame({'Feature': feature_names,\n",
    "                              'Importance': feature_importances\n",
    "                             }).sort_values(by='Importance', ascending=False)\n",
    "\n",
    "# Plotting\n",
    "plt.figure(figsize=(10, 6))\n",
    "plt.barh(importance_df['Feature'], importance_df['Importance'], color='skyblue')\n",
    "plt.gca().invert_yaxis() \n",
    "plt.title('Most Important Features in predicting whether a passenger survived')\n",
    "plt.xlabel('Importance Score')\n",
    "plt.show()\n",
    "\n",
    "# Print test score \n",
    "test_score = model.score(X_test, y_test)\n",
    "print(f\"\\nTest set accuracy: {test_score:.2%}\")"
   ]
  },
  {
   "cell_type": "markdown",
   "metadata": {},
   "source": [
    "### Exercise 6. These are interesting results to consider. \n",
    "What can you say about these feature importances? Are they informative as is?\n"
   ]
  },
  {
   "cell_type": "markdown",
   "metadata": {},
   "source": [
    "<details><summary>Click here for some thoughts</summary>\n",
    "    \n",
    "```\n",
    "The test set accuracy is somewhat satisfactory. However,regarding the feature impoirtances, it's crucially important to realize that there is most likely plenty of dependence amongst these variables, and a more detailed modelling approach including correlation analysis is required to draw proper conclusions. For example, no doubt there is significant information shared by the variables `age`, `sex_male`, and `who_man`.\n",
    "```\n"
   ]
  },
  {
   "cell_type": "markdown",
   "metadata": {},
   "source": [
    "## Try another model\n",
    "In practice you would want to try out different models and even revisit the data analysis to improve\n",
    "your model performance. Maybe you can engineer new features or impute missing values to be able to use more data.\n",
    "\n",
    "With Scikit-learn's powerful pipeline class, this is easy to do in a few steps.\n",
    "Let's update the pipeline and the parameter grid so we can train a Logistic Regression model and compare the performance of the two models.\n"
   ]
  },
  {
   "cell_type": "code",
   "execution_count": 60,
   "metadata": {},
   "outputs": [
    {
     "name": "stdout",
     "output_type": "stream",
     "text": [
      "Fitting 5 folds for each of 4 candidates, totalling 20 fits\n",
      "[CV] classifier__class_weight=None, classifier__penalty=l1, classifier__solver=liblinear \n",
      "[CV]  classifier__class_weight=None, classifier__penalty=l1, classifier__solver=liblinear, total=   0.0s\n",
      "[CV] classifier__class_weight=None, classifier__penalty=l1, classifier__solver=liblinear \n",
      "[CV]  classifier__class_weight=None, classifier__penalty=l1, classifier__solver=liblinear, total=   0.0s\n",
      "[CV] classifier__class_weight=None, classifier__penalty=l1, classifier__solver=liblinear \n",
      "[CV]  classifier__class_weight=None, classifier__penalty=l1, classifier__solver=liblinear, total=   0.0s\n",
      "[CV] classifier__class_weight=None, classifier__penalty=l1, classifier__solver=liblinear \n",
      "[CV]  classifier__class_weight=None, classifier__penalty=l1, classifier__solver=liblinear, total=   0.0s\n",
      "[CV] classifier__class_weight=None, classifier__penalty=l1, classifier__solver=liblinear \n",
      "[CV]  classifier__class_weight=None, classifier__penalty=l1, classifier__solver=liblinear, total=   0.0s\n",
      "[CV] classifier__class_weight=None, classifier__penalty=l2, classifier__solver=liblinear \n",
      "[CV]  classifier__class_weight=None, classifier__penalty=l2, classifier__solver=liblinear, total=   0.0s\n",
      "[CV] classifier__class_weight=None, classifier__penalty=l2, classifier__solver=liblinear \n",
      "[CV]  classifier__class_weight=None, classifier__penalty=l2, classifier__solver=liblinear, total=   0.0s\n",
      "[CV] classifier__class_weight=None, classifier__penalty=l2, classifier__solver=liblinear \n",
      "[CV]  classifier__class_weight=None, classifier__penalty=l2, classifier__solver=liblinear, total=   0.0s\n",
      "[CV] classifier__class_weight=None, classifier__penalty=l2, classifier__solver=liblinear \n",
      "[CV]  classifier__class_weight=None, classifier__penalty=l2, classifier__solver=liblinear, total=   0.0s\n",
      "[CV] classifier__class_weight=None, classifier__penalty=l2, classifier__solver=liblinear \n",
      "[CV]  classifier__class_weight=None, classifier__penalty=l2, classifier__solver=liblinear, total=   0.0s\n",
      "[CV] classifier__class_weight=balanced, classifier__penalty=l1, classifier__solver=liblinear \n",
      "[CV]  classifier__class_weight=balanced, classifier__penalty=l1, classifier__solver=liblinear, total=   0.0s\n",
      "[CV] classifier__class_weight=balanced, classifier__penalty=l1, classifier__solver=liblinear \n",
      "[CV]  classifier__class_weight=balanced, classifier__penalty=l1, classifier__solver=liblinear, total=   0.0s\n",
      "[CV] classifier__class_weight=balanced, classifier__penalty=l1, classifier__solver=liblinear \n"
     ]
    },
    {
     "name": "stderr",
     "output_type": "stream",
     "text": [
      "[Parallel(n_jobs=1)]: Using backend SequentialBackend with 1 concurrent workers.\n",
      "[Parallel(n_jobs=1)]: Done   1 out of   1 | elapsed:    0.0s remaining:    0.0s\n"
     ]
    },
    {
     "name": "stdout",
     "output_type": "stream",
     "text": [
      "[CV]  classifier__class_weight=balanced, classifier__penalty=l1, classifier__solver=liblinear, total=   0.0s\n",
      "[CV] classifier__class_weight=balanced, classifier__penalty=l1, classifier__solver=liblinear \n",
      "[CV]  classifier__class_weight=balanced, classifier__penalty=l1, classifier__solver=liblinear, total=   0.0s\n",
      "[CV] classifier__class_weight=balanced, classifier__penalty=l1, classifier__solver=liblinear \n",
      "[CV]  classifier__class_weight=balanced, classifier__penalty=l1, classifier__solver=liblinear, total=   0.0s\n",
      "[CV] classifier__class_weight=balanced, classifier__penalty=l2, classifier__solver=liblinear \n",
      "[CV]  classifier__class_weight=balanced, classifier__penalty=l2, classifier__solver=liblinear, total=   0.0s\n",
      "[CV] classifier__class_weight=balanced, classifier__penalty=l2, classifier__solver=liblinear \n",
      "[CV]  classifier__class_weight=balanced, classifier__penalty=l2, classifier__solver=liblinear, total=   0.0s\n",
      "[CV] classifier__class_weight=balanced, classifier__penalty=l2, classifier__solver=liblinear \n",
      "[CV]  classifier__class_weight=balanced, classifier__penalty=l2, classifier__solver=liblinear, total=   0.0s\n",
      "[CV] classifier__class_weight=balanced, classifier__penalty=l2, classifier__solver=liblinear \n",
      "[CV]  classifier__class_weight=balanced, classifier__penalty=l2, classifier__solver=liblinear, total=   0.0s\n",
      "[CV] classifier__class_weight=balanced, classifier__penalty=l2, classifier__solver=liblinear \n",
      "[CV]  classifier__class_weight=balanced, classifier__penalty=l2, classifier__solver=liblinear, total=   0.0s\n"
     ]
    },
    {
     "name": "stderr",
     "output_type": "stream",
     "text": [
      "[Parallel(n_jobs=1)]: Done  20 out of  20 | elapsed:    0.2s finished\n"
     ]
    }
   ],
   "source": [
    "# Replace RandomForestClassifier with LogisticRegression\n",
    "pipeline.set_params(classifier=LogisticRegression(random_state=42))\n",
    "\n",
    "# update the model's estimator to use the new pipeline\n",
    "model.estimator = pipeline\n",
    "\n",
    "# Define a new grid with Logistic Regression parameters\n",
    "param_grid = {\n",
    "    # 'classifier__n_estimators': [50, 100],\n",
    "    # 'classifier__max_depth': [None, 10, 20],\n",
    "    # 'classifier__min_samples_split': [2, 5],\n",
    "    'classifier__solver' : ['liblinear'],\n",
    "    'classifier__penalty': ['l1', 'l2'],\n",
    "    'classifier__class_weight' : [None, 'balanced']\n",
    "}\n",
    "\n",
    "model.param_grid = param_grid\n",
    "\n",
    "# Fit the updated pipeline with Logistic Regression\n",
    "model.fit(X_train, y_train)\n",
    "\n",
    "# Make predictions\n",
    "y_pred = model.predict(X_test)\n"
   ]
  },
  {
   "cell_type": "markdown",
   "metadata": {},
   "source": [
    "### Exercise 7. Display the clasification report for the new model and compare the results to your previous model.\n"
   ]
  },
  {
   "cell_type": "code",
   "execution_count": 61,
   "metadata": {},
   "outputs": [
    {
     "name": "stdout",
     "output_type": "stream",
     "text": [
      "              precision    recall  f1-score   support\n",
      "\n",
      "           0       0.84      0.89      0.86       110\n",
      "           1       0.81      0.72      0.76        69\n",
      "\n",
      "    accuracy                           0.83       179\n",
      "   macro avg       0.82      0.81      0.81       179\n",
      "weighted avg       0.83      0.83      0.82       179\n",
      "\n"
     ]
    }
   ],
   "source": [
    "# Enter your code here:\n",
    "print(classification_report(y_test, y_pred))"
   ]
  },
  {
   "cell_type": "markdown",
   "metadata": {},
   "source": [
    "<details><summary>Click here for the solution</summary>\n",
    "    \n",
    "```python\n",
    "print(classification_report(y_test, y_pred))\n",
    "```\n",
    "All of the scores are slightly better for logistic regression than for random forest classification, although the differences are insignificant. \n"
   ]
  },
  {
   "cell_type": "markdown",
   "metadata": {},
   "source": [
    "### Exercise 8. Display the confusion matrix for the new model and compare the results to your previous model.\n"
   ]
  },
  {
   "cell_type": "code",
   "execution_count": 62,
   "metadata": {},
   "outputs": [
    {
     "data": {
      "image/png": "[encoded data removed]",
      "text/plain": [
       "<Figure size 432x288 with 2 Axes>"
      ]
     },
     "metadata": {
      "needs_background": "light"
     },
     "output_type": "display_data"
    },
    {
     "name": "stdout",
     "output_type": "stream",
     "text": [
      "[[98 12]\n",
      " [19 50]]\n"
     ]
    }
   ],
   "source": [
    "# Enter your code here:\n",
    "# Generate the confusion matrix \n",
    "conf_matrix = confusion_matrix(y_test, y_pred)\n",
    "\n",
    "plt.figure()\n",
    "sns.heatmap(conf_matrix, annot=True, cmap='Blues', fmt='d')\n",
    "\n",
    "# Set the title and labels\n",
    "plt.title('Titanic Classification Confusion Matrix')\n",
    "plt.xlabel('Predicted')\n",
    "plt.ylabel('Actual')\n",
    "\n",
    "# Show the plot\n",
    "plt.tight_layout()\n",
    "plt.show()\n",
    "\n",
    "print(conf_matrix)\n",
    "\n",
    "# What changed in the numbers of true positives and true negatives?"
   ]
  },
  {
   "cell_type": "markdown",
   "metadata": {},
   "source": [
    "<details><summary>Click here for the solution</summary>\n",
    "    \n",
    "```python\n",
    "# Generate the confusion matrix \n",
    "conf_matrix = confusion_matrix(y_test, y_pred)\n",
    "\n",
    "plt.figure()\n",
    "sns.heatmap(conf_matrix, annot=True, cmap='Blues', fmt='d')\n",
    "\n",
    "# Set the title and labels\n",
    "plt.title('Titanic Classification Confusion Matrix')\n",
    "plt.xlabel('Predicted')\n",
    "plt.ylabel('Actual')\n",
    "\n",
    "# Show the plot\n",
    "plt.tight_layout()\n",
    "plt.show()\n",
    "```\n",
    "\n",
    "Again, the results show a slight improvement, with one more true positive and one more true negative.\n"
   ]
  },
  {
   "cell_type": "markdown",
   "metadata": {},
   "source": [
    "### Extract the logistic regression feature coefficients and plot their magnitude in a bar chart.\n"
   ]
  },
  {
   "cell_type": "code",
   "execution_count": 63,
   "metadata": {},
   "outputs": [],
   "source": [
    "coefficients = model.best_estimator_.named_steps['classifier'].coef_[0]\n",
    "\n",
    "# Combine numerical and categorical feature names\n",
    "numerical_feature_names = numerical_features\n",
    "categorical_feature_names = (model.best_estimator_.named_steps['preprocessor']\n",
    "                                     .named_transformers_['cat']\n",
    "                                     .named_steps['onehot']\n",
    "                                     .get_feature_names(categorical_features)\n",
    "                            )\n",
    "feature_names = numerical_feature_names + list(categorical_feature_names)"
   ]
  },
  {
   "cell_type": "markdown",
   "metadata": {},
   "source": [
    "### Exercise 9. Plot the feature coefficient magnitudes in a bar chart\n",
    "What's different about this chart than the feature importance chart for the Random Forest classifier?\n"
   ]
  },
  {
   "cell_type": "code",
   "execution_count": 64,
   "metadata": {},
   "outputs": [
    {
     "data": {
      "image/png": "[encoded data removed]",
      "text/plain": [
       "<Figure size 720x432 with 1 Axes>"
      ]
     },
     "metadata": {
      "needs_background": "light"
     },
     "output_type": "display_data"
    },
    {
     "name": "stdout",
     "output_type": "stream",
     "text": [
      "\n",
      "Test set accuracy: 82.68%\n"
     ]
    }
   ],
   "source": [
    "# Enter your code here:\n",
    "\n",
    "# Create a DataFrame for the coefficients\n",
    "importance_df = pd.DataFrame({\n",
    "    'Feature': feature_names,\n",
    "    'Coefficient': coefficients\n",
    "})\n",
    "\n",
    "# Sort by absolute coefficient values in descending order\n",
    "importance_df = importance_df.iloc[importance_df['Coefficient'].abs().argsort()[::-1]]\n",
    "\n",
    "\n",
    "# Plotting\n",
    "plt.figure(figsize=(10, 6))\n",
    "plt.barh(importance_df['Feature'], importance_df['Coefficient'].abs(), color='skyblue')\n",
    "plt.gca().invert_yaxis()\n",
    "plt.title('Feature Coefficient magnitudes for Logistic Regression model')\n",
    "plt.xlabel('Coefficient Magnitude')\n",
    "plt.show()\n",
    "\n",
    "# Print test score\n",
    "test_score = model.best_estimator_.score(X_test, y_test)\n",
    "print(f\"\\nTest set accuracy: {test_score:.2%}\")"
   ]
  },
  {
   "cell_type": "markdown",
   "metadata": {},
   "source": [
    "<details><summary>Click here for the solution</summary>\n",
    "    \n",
    "```python\n",
    "# Create a DataFrame for the coefficients\n",
    "importance_df = pd.DataFrame({\n",
    "    'Feature': feature_names,\n",
    "    'Coefficient': coefficients\n",
    "}).sort_values(by='Coefficient', ascending=False, key=abs)  # Sort by absolute values\n",
    "\n",
    "# Plotting\n",
    "plt.figure(figsize=(10, 6))\n",
    "plt.barh(importance_df['Feature'], importance_df['Coefficient'].abs(), color='skyblue')\n",
    "plt.gca().invert_yaxis()\n",
    "plt.title('Feature Coefficient magnitudes for Logistic Regression model')\n",
    "plt.xlabel('Coefficient Magnitude')\n",
    "plt.show()\n",
    "\n",
    "# Print test score\n",
    "test_score = model.best_estimator_.score(X_test, y_test)\n",
    "print(f\"\\nTest set accuracy: {test_score:.2%}\")\n",
    "```\n",
    "\n",
    "Although the performances of the two models are virtually identical, the features that are important to the two models are very different. This suggests there must be more work to do to better grasp the actual feature importancdes. A smentioned above, it's crucially important to realize that there is most likely plenty of dependence amongst these variables, and a more detailed modelling approach including correlation analysis is required to draw proper conclusions. For example, there is significant information implied between the variables `who_man`, `who_woman`, and `who_child`, because if a person is neither a man nor a woman, then they muct be a child.\n"
   ]
  },
  {
   "cell_type": "markdown",
   "metadata": {},
   "source": [
    "### Congratulations! You've made it this far and are now fully equipped to take on your final project!\n",
    "\n",
    "## Author\n",
    "\n",
    "<a href=\"https://www.linkedin.com/in/jpgrossman/\" target=\"_blank\">Jeff Grossman</a>\n",
    "\n",
    "### Other Contributor(s)\n",
    "\n",
    "<a href=\"https://www.linkedin.com/in/abhishek-gagneja-23051987/\" taget=\"_blank\">Abhishek Gagneja</a>\n",
    "\n",
    "<!-- ## Changelog\n",
    "\n",
    "| Date | Version | Changed by | Change Description |\n",
    "|:------------|:------|:------------------|:---------------------------------------|\n",
    "| 2024-11-27 | 0.1  | Jeff Grossman    | Create lab |\n",
    "| 2024-12-03 | 0.2  | Abhishek Gagneja | Typos corrected |\n",
    "\n",
    " -->\n",
    "<h3 align=\"center\"> © IBM Corporation. All rights reserved. <h3/>\n"
   ]
  }
 ],
 "metadata": {
  "kernelspec": {
   "display_name": "Python 3",
   "language": "python",
   "name": "python3"
  },
  "language_info": {
   "codemirror_mode": {
    "name": "ipython",
    "version": 3
   },
   "file_extension": ".py",
   "mimetype": "text/x-python",
   "name": "python",
   "nbconvert_exporter": "python",
   "pygments_lexer": "ipython3",
   "version": "3.7.4"
  },
  "prev_pub_hash": "5d7df76e724469757b6d34da0505a030d3212c89c49a08b727e4054da2dd99e8"
 },
 "nbformat": 4,
 "nbformat_minor": 4
}
